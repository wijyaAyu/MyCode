{
 "cells": [
  {
   "cell_type": "code",
   "execution_count": 3,
   "metadata": {},
   "outputs": [
    {
     "name": "stderr",
     "output_type": "stream",
     "text": [
      "INFO:     Started server process [35748]\n",
      "INFO:     Waiting for application startup.\n",
      "INFO:     Application startup complete.\n",
      "INFO:     Uvicorn running on http://127.0.0.1:8600 (Press CTRL+C to quit)\n"
     ]
    },
    {
     "name": "stderr",
     "output_type": "stream",
     "text": [
      "INFO:     Shutting down\n",
      "INFO:     Waiting for application shutdown.\n",
      "INFO:     Application shutdown complete.\n",
      "INFO:     Finished server process [35748]\n"
     ]
    }
   ],
   "source": [
    "from fastapi import FastAPI, HTTPException\n",
    "import requests\n",
    "import nest_asyncio\n",
    "import uvicorn\n",
    "\n",
    "nest_asyncio.apply()\n",
    "\n",
    "# Inisialisasi FastAPI\n",
    "app = FastAPI()\n",
    "\n",
    "# Masukkan API Key OpenWeatherMap Anda\n",
    "API_KEY = \"1126e6877285c03932db1caea51882a5\" \n",
    "BASE_URL_CURRENT = \"https://api.openweathermap.org/data/2.5/weather\"\n",
    "BASE_URL_FORECAST = \"https://api.openweathermap.org/data/2.5/forecast\"\n",
    "\n",
    "@app.get(\"/weather/\")\n",
    "def get_current_weather(city: str):\n",
    "    \"\"\"\n",
    "    Mengambil data cuaca saat ini berdasarkan nama kota.\n",
    "    \"\"\"\n",
    "    params = {\n",
    "        \"q\": city,\n",
    "        \"appid\": API_KEY,\n",
    "        \"units\": \"metric\"\n",
    "    }\n",
    "\n",
    "    response = requests.get(BASE_URL_CURRENT, params=params)\n",
    "    if response.status_code != 200:\n",
    "        raise HTTPException(status_code=response.status_code, detail=\"Error fetching current weather data.\")\n",
    "\n",
    "    data = response.json()\n",
    "\n",
    "    return {\n",
    "        \"city\": data[\"name\"],\n",
    "        \"temperature\": data[\"main\"][\"temp\"],\n",
    "        \"humidity\": data[\"main\"][\"humidity\"],\n",
    "        \"description\": data[\"weather\"][0][\"description\"],\n",
    "        \"wind_speed\": data[\"wind\"][\"speed\"]\n",
    "    }\n",
    "\n",
    "@app.get(\"/forecast/\")\n",
    "def get_weather_forecast(city: str):\n",
    "    \"\"\"\n",
    "    Mengambil data prediksi cuaca 5 hari ke depan berdasarkan nama kota.\n",
    "    \"\"\"\n",
    "    params = {\n",
    "        \"q\": city,\n",
    "        \"appid\": API_KEY,\n",
    "        \"units\": \"metric\"\n",
    "    }\n",
    "\n",
    "    response = requests.get(BASE_URL_FORECAST, params=params)\n",
    "    if response.status_code != 200:\n",
    "        raise HTTPException(status_code=response.status_code, detail=\"Error fetching forecast data.\")\n",
    "\n",
    "    data = response.json()\n",
    "\n",
    "    # Menyusun data menjadi daftar prediksi yang disederhanakan\n",
    "    forecast = []\n",
    "    for item in data[\"list\"]:\n",
    "        forecast.append({\n",
    "            \"datetime\": item[\"dt_txt\"],\n",
    "            \"temperature\": item[\"main\"][\"temp\"],\n",
    "            \"humidity\": item[\"main\"][\"humidity\"],\n",
    "            \"description\": item[\"weather\"][0][\"description\"],\n",
    "            \"wind_speed\": item[\"wind\"][\"speed\"]\n",
    "        })\n",
    "\n",
    "    return {\n",
    "        \"city\": data[\"city\"][\"name\"],\n",
    "        \"country\": data[\"city\"][\"country\"],\n",
    "        \"forecast\": forecast\n",
    "    }\n",
    "\n",
    "# Menjalankan server\n",
    "def run_server():\n",
    "    uvicorn.run(app, host=\"127.0.0.1\", port=8600)\n",
    "\n",
    "# Jalankan aplikasi\n",
    "run_server()"
   ]
  }
 ],
 "metadata": {
  "kernelspec": {
   "display_name": "python-learning",
   "language": "python",
   "name": "python3"
  },
  "language_info": {
   "codemirror_mode": {
    "name": "ipython",
    "version": 3
   },
   "file_extension": ".py",
   "mimetype": "text/x-python",
   "name": "python",
   "nbconvert_exporter": "python",
   "pygments_lexer": "ipython3",
   "version": "3.12.6"
  }
 },
 "nbformat": 4,
 "nbformat_minor": 2
}
