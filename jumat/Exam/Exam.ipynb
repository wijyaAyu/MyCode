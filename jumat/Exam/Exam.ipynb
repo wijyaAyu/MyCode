{
 "cells": [
  {
   "cell_type": "markdown",
   "metadata": {},
   "source": [
    "## Menghitung mata uang\n"
   ]
  },
  {
   "cell_type": "code",
   "execution_count": 13,
   "metadata": {},
   "outputs": [
    {
     "name": "stderr",
     "output_type": "stream",
     "text": [
      "INFO:     Started server process [29872]\n",
      "INFO:     Waiting for application startup.\n",
      "INFO:     Application startup complete.\n",
      "ERROR:    [Errno 10048] error while attempting to bind on address ('127.0.0.1', 8100): [winerror 10048] only one usage of each socket address (protocol/network address/port) is normally permitted\n",
      "INFO:     Waiting for application shutdown.\n",
      "INFO:     Application shutdown complete.\n"
     ]
    },
    {
     "ename": "SystemExit",
     "evalue": "1",
     "output_type": "error",
     "traceback": [
      "An exception has occurred, use %tb to see the full traceback.\n",
      "\u001b[1;31mSystemExit\u001b[0m\u001b[1;31m:\u001b[0m 1\n"
     ]
    }
   ],
   "source": [
    "from fastapi import FastAPI, HTTPException\n",
    "import requests\n",
    "import nest_asyncio\n",
    "import uvicorn\n",
    "\n",
    "nest_asyncio.apply()\n",
    "\n",
    "app = FastAPI()\n",
    "\n",
    "API_KEY = \"a73cc1771d02c573ba58008f7a80909f\"\n",
    "BASE_URL = \"https://api.exchangeratesapi.io/v1/latest\"\n",
    "\n",
    "@app.get(\"/convert_rate/\")\n",
    "def get_convert(base_currency: str, target_currency: str):\n",
    "    \n",
    "    \"\"\" \n",
    "    Mengambil data mata uang berdasarkan nama negara.\n",
    "    \"\"\"\n",
    "    params = {\n",
    "        \"q\":base_currency,\n",
    "        \"appid\":API_KEY,\n",
    "        \"units\": \"metric\"\n",
    "    }\n",
    "    # params = {\n",
    "    #     \"base\": base_currency.upper(),   # Base currency (e.g., USD)\n",
    "    #     \"symbols\": target_currency.upper()  # Target currency (e.g., IDR)\n",
    "    # }\n",
    "    response = requests.get(BASE_URL, params=params)\n",
    "    if response.status_code != 200:\n",
    "        raise HTTPException(status_code=response.status_code, detail=\"Error fetching convert data.\")\n",
    "    data = response.json()\n",
    "\n",
    "    # if \"rates\" not in data or target_currency.upper() not in data[\"rates\"]:\n",
    "    #     raise HTTPException(status_code=404, detail=\"Target currency not found in the response.\")\n",
    "    return {\n",
    "        \"base_currency\": data[\"country\"],\n",
    "        \"target_currency\": data[\"country\"],\n",
    "        \"exchange_rate\": data[\"currency\"]\n",
    "\n",
    "    }\n",
    "    # return {\n",
    "    #     \"base_currency\": base_currency.upper(),\n",
    "    #     \"target_currency\": target_currency.upper(),\n",
    "    #     \"exchange_rate\": data[\"rates\"][target_currency.upper()]\n",
    "    # }\n",
    "\n",
    "def run_server():\n",
    "    uvicorn.run(app, host=\"127.0.0.1\", port=8100)\n",
    "\n",
    "run_server()\n",
    "\n"
   ]
  },
  {
   "cell_type": "code",
   "execution_count": null,
   "metadata": {},
   "outputs": [],
   "source": [
    "from forex_python.converter import CurrencyRates\n",
    "c = CurrencyRates()\n",
    "amount = int(input(\"Enter the amount: \"))\n",
    "from_currenccy = input(\"From currency: \").upper()\n",
    "to_currency = input(\"To currency: \").upper()\n",
    "\n",
    "print(from_currenccy, \"To\", to_currency, amount)\n",
    "result = c.convert(from_currenccy, to_currency, amount)\n",
    "\n",
    "print(result)"
   ]
  },
  {
   "cell_type": "code",
   "execution_count": 8,
   "metadata": {},
   "outputs": [
    {
     "name": "stderr",
     "output_type": "stream",
     "text": [
      "INFO:     Started server process [29872]\n",
      "INFO:     Waiting for application startup.\n",
      "INFO:     Application startup complete.\n",
      "INFO:     Uvicorn running on http://127.0.0.1:8900 (Press CTRL+C to quit)\n"
     ]
    },
    {
     "name": "stdout",
     "output_type": "stream",
     "text": [
      "INFO:     127.0.0.1:64919 - \"GET / HTTP/1.1\" 404 Not Found\n",
      "INFO:     127.0.0.1:64927 - \"GET /convert_rate/?base_currency=USD&target_currency=IDR HTTP/1.1\" 404 Not Found\n",
      "INFO:     127.0.0.1:64935 - \"GET /convert_rate/?base_currency=USD&target_currency=EUR HTTP/1.1\" 404 Not Found\n"
     ]
    },
    {
     "name": "stderr",
     "output_type": "stream",
     "text": [
      "INFO:     Shutting down\n",
      "INFO:     Waiting for application shutdown.\n",
      "INFO:     Application shutdown complete.\n",
      "INFO:     Finished server process [29872]\n"
     ]
    }
   ],
   "source": [
    "from fastapi import FastAPI, HTTPException\n",
    "import requests\n",
    "import nest_asyncio\n",
    "import uvicorn\n",
    "import httpx\n",
    "\n",
    "nest_asyncio.apply()\n",
    "app = FastAPI()\n",
    "\n",
    "# Ganti dengan API key dan endpoint yang sesuai dari layanan yang Anda pilih\n",
    "API_KEY = \"b60917fcad96d58d7946e339529e1a9b\"\n",
    "API_URL = \"https://api.exchangerate-api.com/v4/latest\"  # Contoh URL, sesuaikan dengan API yang Anda gunakan\n",
    "\n",
    "@app.get(\"/convert_rate/\")\n",
    "async def convert_rate(base_currency: str, target_currency: str):\n",
    "    async with httpx.AsyncClient() as client:\n",
    "        response = await client.get(f\"{API_URL}{base_currency}?apikey={API_KEY}\")\n",
    "        \n",
    "        if response.status_code != 200:\n",
    "            raise HTTPException(status_code=response.status_code, detail=\"Error fetching exchange rates\")\n",
    "        \n",
    "        data = response.json()\n",
    "        \n",
    "        if target_currency not in data['rates']:\n",
    "            raise HTTPException(status_code=404, detail=\"Target currency not found\")\n",
    "        \n",
    "        exchange_rate = data['rates'][target_currency]\n",
    "        \n",
    "        return {\n",
    "            \"base_currency\": base_currency,\n",
    "            \"target_currency\": target_currency,\n",
    "            \"exchange_rate\": exchange_rate\n",
    "        }\n",
    "def run_server():\n",
    "    uvicorn.run(app, host=\"127.0.0.1\", port=8900)\n",
    "\n",
    "run_server()\n",
    "# Untuk menjalankan aplikasi, gunakan perintah berikut di terminal\n",
    "# uvicorn app:app --reload"
   ]
  },
  {
   "cell_type": "code",
   "execution_count": null,
   "metadata": {},
   "outputs": [],
   "source": [
    "from fastapi import FastAPI, HTTPException\n",
    "import requests\n",
    "import nest_asyncio\n",
    "import uvicorn\n",
    "\n",
    "nest_asyncio.apply()\n",
    "\n",
    "app = FastAPI()\n",
    "\n",
    "API_KEY = \"a73cc1771d02c573ba58008f7a80909f\"\n",
    "BASE_URL = \"https://api.exchangeratesapi.io/v1/latest\"\n",
    "\n",
    "@app.get(\"/convert_rate/\")\n",
    "def get_convert(base_currency: str, target_currency: str):\n",
    "    \n",
    "    \"\"\" \n",
    "    Mengambil data mata uang berdasarkan nama negara.\n",
    "    \"\"\""
   ]
  }
 ],
 "metadata": {
  "kernelspec": {
   "display_name": "python-learning",
   "language": "python",
   "name": "python3"
  },
  "language_info": {
   "codemirror_mode": {
    "name": "ipython",
    "version": 3
   },
   "file_extension": ".py",
   "mimetype": "text/x-python",
   "name": "python",
   "nbconvert_exporter": "python",
   "pygments_lexer": "ipython3",
   "version": "3.12.6"
  }
 },
 "nbformat": 4,
 "nbformat_minor": 2
}
