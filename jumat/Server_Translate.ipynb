{
 "cells": [
  {
   "cell_type": "code",
   "execution_count": null,
   "metadata": {},
   "outputs": [],
   "source": [
    "%pip install googletrans==4.0.0-rc1 requests"
   ]
  },
  {
   "cell_type": "code",
   "execution_count": 11,
   "metadata": {},
   "outputs": [],
   "source": [
    "from fastapi import FastAPI\n",
    "from pydantic import BaseModel\n",
    "from googletrans import Translator\n",
    "import uvicorn\n",
    "from threading import Thread\n",
    "\n",
    "# inisialisasi FastAPI dan google translate API\n",
    "app = FastAPI()\n",
    "translator = Translator()\n",
    "\n",
    "# model untuk request data\n",
    "class TranslationRequest(BaseModel):\n",
    "    text:str\n",
    "    target_language:str\n",
    "\n",
    "@app.post(\"/translate/\")\n",
    "def translate_text(requets: TranslationRequest):\n",
    "    \"\"\"\n",
    "    Endpoint untuk menerjemahkan text ke bahasa target.\n",
    "    \"\"\"\n",
    "    try:\n",
    "        # penerjemah text\n",
    "        translated = translator.translate(requets.text, dest=requets.target_language)\n",
    "        return {\n",
    "            \"original_text\" : requets.text,\n",
    "            \"translated_text\" : translated.text,\n",
    "            \"target_language\" : requets.target_language\n",
    "        }\n",
    "    except Exception as e:\n",
    "        return {\"error\":str(e)}\n",
    "    \n",
    "    # fungsi untuk menjalankan server FastAPI di thread terpisah\n",
    "def run_server():\n",
    "    uvicorn.run(app, host=\"127.0.0.1\", port=8800)\n",
    "\n",
    "    # menjalankan server FastAPI di latar belakang\n",
    "    thread = Thread(target=run_server)\n",
    "    thread.start()\n"
   ]
  }
 ],
 "metadata": {
  "kernelspec": {
   "display_name": "python-learning",
   "language": "python",
   "name": "python3"
  },
  "language_info": {
   "codemirror_mode": {
    "name": "ipython",
    "version": 3
   },
   "file_extension": ".py",
   "mimetype": "text/x-python",
   "name": "python",
   "nbconvert_exporter": "python",
   "pygments_lexer": "ipython3",
   "version": "3.12.6"
  }
 },
 "nbformat": 4,
 "nbformat_minor": 2
}
