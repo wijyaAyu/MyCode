{
 "cells": [
  {
   "cell_type": "code",
   "execution_count": null,
   "metadata": {},
   "outputs": [],
   "source": [
    "from fastapi import FastAPI, HTTPException\n",
    "import requests\n",
    "import nest_asyncio\n",
    "import uvicorn\n",
    "\n",
    "# patch untuk jupyter notebook\n",
    "nest_asyncio.apply()\n",
    "\n",
    "# inisialisasi FastAPI\n",
    "app = FastAPI()\n",
    "\n",
    "API_KEY = \"1126e6877285c03932db1caea51882a5\"\n",
    "BASE_URL = \"https://api.openweathermap.org/data/2.5/weather\"\n",
    "\n",
    "@app.get(\"/weather/\")\n",
    "def get_weather(city:str):\n",
    "    \"\"\" \n",
    "    Mengambil data cuaca berdasarkan nama kota.\n",
    "    \"\"\"\n",
    "\n",
    "    # parameter untuk API OpenWeatherMap\n",
    "    params = {\n",
    "        \"q\":city,\n",
    "        \"appid\":API_KEY,\n",
    "        \"units\" : \"metric\"\n",
    "    }\n",
    "    response = requests.get(BASE_URL, params=params)\n",
    "    if response.status_code != 200:\n",
    "        raise HTTPException(status_code=response.status_code, detail=\"Error fetching weather data.\")\n",
    "    data = response.json()\n",
    "\n",
    "    return {\n",
    "        \"city\": data[\"name\"],\n",
    "        \"temperature\": data[\"main\"][\"temp\"],\n",
    "        \"description\": data[\"weather\"][0][\"description\"],\n",
    "        \"humidity\": data[\"main\"][\"humidity\"],\n",
    "        \"wind_speed\": data[\"wind\"] [\"speed\"]\n",
    "    }\n",
    "\n",
    "def run_server():\n",
    "    uvicorn.run(app, host=\"127.0.0.1\", port=8600)\n",
    "\n",
    "run_server()"
   ]
  }
 ],
 "metadata": {
  "kernelspec": {
   "display_name": "python-learning",
   "language": "python",
   "name": "python3"
  },
  "language_info": {
   "codemirror_mode": {
    "name": "ipython",
    "version": 3
   },
   "file_extension": ".py",
   "mimetype": "text/x-python",
   "name": "python",
   "nbconvert_exporter": "python",
   "pygments_lexer": "ipython3",
   "version": "3.12.6"
  }
 },
 "nbformat": 4,
 "nbformat_minor": 2
}
