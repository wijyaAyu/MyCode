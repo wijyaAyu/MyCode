{
 "cells": [
  {
   "cell_type": "code",
   "execution_count": 153,
   "metadata": {},
   "outputs": [],
   "source": [
    "import numpy\n",
    "import pandas as pd\n",
    "import matplotlib.pyplot as plt\n",
    "from sklearn.preprocessing import LabelEncoder, StandardScaler\n",
    "from imblearn.over_sampling import SMOTE\n",
    "from sklearn.model_selection import train_test_split"
   ]
  },
  {
   "cell_type": "code",
   "execution_count": 154,
   "metadata": {},
   "outputs": [
    {
     "data": {
      "text/html": [
       "<div>\n",
       "<style scoped>\n",
       "    .dataframe tbody tr th:only-of-type {\n",
       "        vertical-align: middle;\n",
       "    }\n",
       "\n",
       "    .dataframe tbody tr th {\n",
       "        vertical-align: top;\n",
       "    }\n",
       "\n",
       "    .dataframe thead th {\n",
       "        text-align: right;\n",
       "    }\n",
       "</style>\n",
       "<table border=\"1\" class=\"dataframe\">\n",
       "  <thead>\n",
       "    <tr style=\"text-align: right;\">\n",
       "      <th></th>\n",
       "      <th>Gender</th>\n",
       "      <th>Hemoglobin</th>\n",
       "      <th>MCH</th>\n",
       "      <th>MCHC</th>\n",
       "      <th>MCV</th>\n",
       "      <th>Result</th>\n",
       "    </tr>\n",
       "  </thead>\n",
       "  <tbody>\n",
       "    <tr>\n",
       "      <th>0</th>\n",
       "      <td>1</td>\n",
       "      <td>14.9</td>\n",
       "      <td>22.7</td>\n",
       "      <td>29.1</td>\n",
       "      <td>83.7</td>\n",
       "      <td>0</td>\n",
       "    </tr>\n",
       "    <tr>\n",
       "      <th>1</th>\n",
       "      <td>0</td>\n",
       "      <td>15.9</td>\n",
       "      <td>25.4</td>\n",
       "      <td>28.3</td>\n",
       "      <td>72.0</td>\n",
       "      <td>0</td>\n",
       "    </tr>\n",
       "    <tr>\n",
       "      <th>2</th>\n",
       "      <td>0</td>\n",
       "      <td>9.0</td>\n",
       "      <td>21.5</td>\n",
       "      <td>29.6</td>\n",
       "      <td>71.2</td>\n",
       "      <td>1</td>\n",
       "    </tr>\n",
       "    <tr>\n",
       "      <th>3</th>\n",
       "      <td>0</td>\n",
       "      <td>14.9</td>\n",
       "      <td>16.0</td>\n",
       "      <td>31.4</td>\n",
       "      <td>87.5</td>\n",
       "      <td>0</td>\n",
       "    </tr>\n",
       "    <tr>\n",
       "      <th>4</th>\n",
       "      <td>1</td>\n",
       "      <td>14.7</td>\n",
       "      <td>22.0</td>\n",
       "      <td>28.2</td>\n",
       "      <td>99.5</td>\n",
       "      <td>0</td>\n",
       "    </tr>\n",
       "  </tbody>\n",
       "</table>\n",
       "</div>"
      ],
      "text/plain": [
       "   Gender  Hemoglobin   MCH  MCHC   MCV  Result\n",
       "0       1        14.9  22.7  29.1  83.7       0\n",
       "1       0        15.9  25.4  28.3  72.0       0\n",
       "2       0         9.0  21.5  29.6  71.2       1\n",
       "3       0        14.9  16.0  31.4  87.5       0\n",
       "4       1        14.7  22.0  28.2  99.5       0"
      ]
     },
     "execution_count": 154,
     "metadata": {},
     "output_type": "execute_result"
    }
   ],
   "source": [
    "# Baca dataset\n",
    "df = pd.read_csv('anemia.csv')\n",
    "df.head(5)"
   ]
  },
  {
   "cell_type": "code",
   "execution_count": 155,
   "metadata": {},
   "outputs": [
    {
     "data": {
      "text/plain": [
       "Gender          int64\n",
       "Hemoglobin    float64\n",
       "MCH           float64\n",
       "MCHC          float64\n",
       "MCV           float64\n",
       "Result          int64\n",
       "dtype: object"
      ]
     },
     "execution_count": 155,
     "metadata": {},
     "output_type": "execute_result"
    }
   ],
   "source": [
    "# Cek tipe data\n",
    "df.dtypes"
   ]
  },
  {
   "cell_type": "markdown",
   "metadata": {},
   "source": [
    "Data Cleaning"
   ]
  },
  {
   "cell_type": "code",
   "execution_count": 156,
   "metadata": {},
   "outputs": [
    {
     "name": "stdout",
     "output_type": "stream",
     "text": [
      "There is 887 duplicated values in data frame\n",
      "Data columns with null value: \n",
      "Gender        0\n",
      "Hemoglobin    0\n",
      "MCH           0\n",
      "MCHC          0\n",
      "MCV           0\n",
      "Result        0\n",
      "dtype: int64 \n"
     ]
    }
   ],
   "source": [
    "# Cek nilai duplikat dan nilai kosong\n",
    "print(\"There is {} duplicated values in data frame\".format(df.duplicated().sum()))\n",
    "print(\"Data columns with null value: \\n{} \".format(df.isnull().sum()))"
   ]
  },
  {
   "cell_type": "code",
   "execution_count": 157,
   "metadata": {},
   "outputs": [
    {
     "data": {
      "text/html": [
       "<div>\n",
       "<style scoped>\n",
       "    .dataframe tbody tr th:only-of-type {\n",
       "        vertical-align: middle;\n",
       "    }\n",
       "\n",
       "    .dataframe tbody tr th {\n",
       "        vertical-align: top;\n",
       "    }\n",
       "\n",
       "    .dataframe thead th {\n",
       "        text-align: right;\n",
       "    }\n",
       "</style>\n",
       "<table border=\"1\" class=\"dataframe\">\n",
       "  <thead>\n",
       "    <tr style=\"text-align: right;\">\n",
       "      <th></th>\n",
       "      <th>Gender</th>\n",
       "      <th>Hemoglobin</th>\n",
       "      <th>MCH</th>\n",
       "      <th>MCHC</th>\n",
       "      <th>MCV</th>\n",
       "      <th>Result</th>\n",
       "    </tr>\n",
       "  </thead>\n",
       "  <tbody>\n",
       "    <tr>\n",
       "      <th>115</th>\n",
       "      <td>1</td>\n",
       "      <td>16.9</td>\n",
       "      <td>24.2</td>\n",
       "      <td>32.1</td>\n",
       "      <td>92.5</td>\n",
       "      <td>0</td>\n",
       "    </tr>\n",
       "    <tr>\n",
       "      <th>352</th>\n",
       "      <td>1</td>\n",
       "      <td>16.9</td>\n",
       "      <td>24.2</td>\n",
       "      <td>32.1</td>\n",
       "      <td>92.5</td>\n",
       "      <td>0</td>\n",
       "    </tr>\n",
       "    <tr>\n",
       "      <th>589</th>\n",
       "      <td>1</td>\n",
       "      <td>16.9</td>\n",
       "      <td>24.2</td>\n",
       "      <td>32.1</td>\n",
       "      <td>92.5</td>\n",
       "      <td>0</td>\n",
       "    </tr>\n",
       "    <tr>\n",
       "      <th>138</th>\n",
       "      <td>1</td>\n",
       "      <td>16.8</td>\n",
       "      <td>24.3</td>\n",
       "      <td>30.5</td>\n",
       "      <td>90.7</td>\n",
       "      <td>0</td>\n",
       "    </tr>\n",
       "    <tr>\n",
       "      <th>375</th>\n",
       "      <td>1</td>\n",
       "      <td>16.8</td>\n",
       "      <td>24.3</td>\n",
       "      <td>30.5</td>\n",
       "      <td>90.7</td>\n",
       "      <td>0</td>\n",
       "    </tr>\n",
       "  </tbody>\n",
       "</table>\n",
       "</div>"
      ],
      "text/plain": [
       "     Gender  Hemoglobin   MCH  MCHC   MCV  Result\n",
       "115       1        16.9  24.2  32.1  92.5       0\n",
       "352       1        16.9  24.2  32.1  92.5       0\n",
       "589       1        16.9  24.2  32.1  92.5       0\n",
       "138       1        16.8  24.3  30.5  90.7       0\n",
       "375       1        16.8  24.3  30.5  90.7       0"
      ]
     },
     "execution_count": 157,
     "metadata": {},
     "output_type": "execute_result"
    }
   ],
   "source": [
    "duplicated = df[df.duplicated(keep=False)]\n",
    "duplicated = duplicated.sort_values(by=['Gender', \"Hemoglobin\", \"MCH\",'MCHC','MCV',\"Result\"], ascending= False) \n",
    "duplicated.head()"
   ]
  },
  {
   "cell_type": "code",
   "execution_count": 158,
   "metadata": {},
   "outputs": [
    {
     "name": "stdout",
     "output_type": "stream",
     "text": [
      "There is 0 duplicated values in data frame\n",
      "There is 0 missing values in data frame\n"
     ]
    }
   ],
   "source": [
    "# Hapus duplikat\n",
    "df.drop_duplicates(inplace=True)\n",
    "print(\"There is {} duplicated values in data frame\".format(df.duplicated().sum()))\n",
    "print(\"There is {} missing values in data frame\".format(df.isnull().sum().sum()))"
   ]
  },
  {
   "cell_type": "code",
   "execution_count": 159,
   "metadata": {},
   "outputs": [],
   "source": [
    "# Pisahkan fitur dan target\n",
    "X = df.drop('Result', axis=1)\n",
    "y = df['Result']"
   ]
  },
  {
   "cell_type": "code",
   "execution_count": 160,
   "metadata": {},
   "outputs": [
    {
     "name": "stdout",
     "output_type": "stream",
     "text": [
      "SMOTE(random_state=42)\n"
     ]
    }
   ],
   "source": [
    "# SMOTE untuk mengatasi ketidak samaan data\n",
    "smote = SMOTE(random_state=42)\n",
    "X, y = smote.fit_resample(X, y)\n",
    "print(smote)"
   ]
  },
  {
   "cell_type": "code",
   "execution_count": 161,
   "metadata": {},
   "outputs": [],
   "source": [
    "# Pisahkan data train dan data test\n",
    "X_train, X_test, y_train, y_test = train_test_split(X, y, test_size=0.2, random_state=42)"
   ]
  },
  {
   "cell_type": "code",
   "execution_count": 162,
   "metadata": {},
   "outputs": [],
   "source": [
    "# Scalling numerical \n",
    "scaler = StandardScaler()\n",
    "X_train_scaled = scaler.fit_transform(X_train)\n",
    "X_test_scaled = scaler.transform(X_test)"
   ]
  },
  {
   "cell_type": "code",
   "execution_count": 163,
   "metadata": {},
   "outputs": [
    {
     "name": "stdout",
     "output_type": "stream",
     "text": [
      "Random Forest Classifier Accuracy: 0.9826086956521739\n",
      "Random Forest Classifier:\n",
      "              precision    recall  f1-score   support\n",
      "\n",
      "           0       0.97      1.00      0.98        62\n",
      "           1       1.00      0.96      0.98        53\n",
      "\n",
      "    accuracy                           0.98       115\n",
      "   macro avg       0.98      0.98      0.98       115\n",
      "weighted avg       0.98      0.98      0.98       115\n",
      "\n"
     ]
    }
   ],
   "source": [
    "from sklearn.metrics import classification_report, accuracy_score\n",
    "from sklearn.ensemble import RandomForestClassifier\n",
    "\n",
    "# Model 1 = Random Forest\n",
    "model_randomm = RandomForestClassifier(n_estimators=2, class_weight='balanced', random_state=42)\n",
    "model_randomm.fit(X_train_scaled, y_train)\n",
    "y_pred_random = model_randomm.predict(X_test_scaled)\n",
    "random_accuracy = accuracy_score(y_test, y_pred_random)\n",
    "print(\"Random Forest Classifier Accuracy:\", (random_accuracy))\n",
    "print(\"Random Forest Classifier:\")\n",
    "print(classification_report(y_test, y_pred_random))"
   ]
  },
  {
   "cell_type": "code",
   "execution_count": 164,
   "metadata": {},
   "outputs": [
    {
     "name": "stdout",
     "output_type": "stream",
     "text": [
      "Decisison Tree Accuracy: 0.991304347826087\n",
      "Decision Tree Classifier:\n",
      "              precision    recall  f1-score   support\n",
      "\n",
      "           0       1.00      0.98      0.99        62\n",
      "           1       0.98      1.00      0.99        53\n",
      "\n",
      "    accuracy                           0.99       115\n",
      "   macro avg       0.99      0.99      0.99       115\n",
      "weighted avg       0.99      0.99      0.99       115\n",
      "\n"
     ]
    }
   ],
   "source": [
    "from sklearn.tree import DecisionTreeClassifier\n",
    "# Model 2 = Decision Tree Classifier\n",
    "model_decision = DecisionTreeClassifier(class_weight='balanced', random_state=42)\n",
    "model_decision.fit(X_train_scaled, y_train)\n",
    "y_pred_decision = model_decision.predict(X_test_scaled)\n",
    "decision_accuracy = accuracy_score(y_test, y_pred_decision)\n",
    "print(\"Decisison Tree Accuracy:\", (decision_accuracy))\n",
    "print(\"Decision Tree Classifier:\")\n",
    "print(classification_report(y_test, y_pred_decision))"
   ]
  },
  {
   "cell_type": "code",
   "execution_count": 165,
   "metadata": {},
   "outputs": [
    {
     "name": "stdout",
     "output_type": "stream",
     "text": [
      "KNN Accuracy: 0.9391304347826087\n",
      "KNN:\n",
      "              precision    recall  f1-score   support\n",
      "\n",
      "           0       0.98      0.90      0.94        62\n",
      "           1       0.90      0.98      0.94        53\n",
      "\n",
      "    accuracy                           0.94       115\n",
      "   macro avg       0.94      0.94      0.94       115\n",
      "weighted avg       0.94      0.94      0.94       115\n",
      "\n"
     ]
    }
   ],
   "source": [
    "from sklearn.neighbors import KNeighborsClassifier\n",
    "# Model 3 = KNN\n",
    "model_Kn = KNeighborsClassifier()\n",
    "model_Kn.fit(X_train_scaled, y_train)\n",
    "y_pred_Kn = model_Kn.predict(X_test_scaled)\n",
    "knn_accuracy = accuracy_score(y_test, y_pred_Kn)\n",
    "print(\"KNN Accuracy:\", (knn_accuracy))\n",
    "print(\"KNN:\")\n",
    "print(classification_report(y_test, y_pred_Kn))"
   ]
  },
  {
   "cell_type": "code",
   "execution_count": 166,
   "metadata": {},
   "outputs": [
    {
     "name": "stdout",
     "output_type": "stream",
     "text": [
      "Logistic Regression Accuracy: 0.9565217391304348\n",
      "Logistic Regression:\n",
      "              precision    recall  f1-score   support\n",
      "\n",
      "           0       1.00      0.92      0.96        62\n",
      "           1       0.91      1.00      0.95        53\n",
      "\n",
      "    accuracy                           0.96       115\n",
      "   macro avg       0.96      0.96      0.96       115\n",
      "weighted avg       0.96      0.96      0.96       115\n",
      "\n"
     ]
    }
   ],
   "source": [
    "from sklearn.linear_model import LogisticRegression\n",
    "\n",
    "# Model 4 = Logistic Regression\n",
    "model_logistic = LogisticRegression(random_state=42)\n",
    "model_logistic.fit(X_train_scaled, y_train)\n",
    "y_pred_logistic = model_logistic.predict(X_test_scaled)\n",
    "logistic_accuracy = accuracy_score(y_test, y_pred_logistic)\n",
    "print(\"Logistic Regression Accuracy:\", logistic_accuracy)\n",
    "print(\"Logistic Regression:\")\n",
    "print(classification_report(y_test, y_pred_logistic))"
   ]
  },
  {
   "cell_type": "code",
   "execution_count": 167,
   "metadata": {},
   "outputs": [
    {
     "name": "stdout",
     "output_type": "stream",
     "text": [
      "SVC Accuracy: 0.9478260869565217\n",
      "SVC:\n",
      "              precision    recall  f1-score   support\n",
      "\n",
      "           0       1.00      0.90      0.95        62\n",
      "           1       0.90      1.00      0.95        53\n",
      "\n",
      "    accuracy                           0.95       115\n",
      "   macro avg       0.95      0.95      0.95       115\n",
      "weighted avg       0.95      0.95      0.95       115\n",
      "\n"
     ]
    }
   ],
   "source": [
    "from sklearn.svm import SVC\n",
    "# Model 5 = SVC\n",
    "model_svc = SVC()\n",
    "model_svc.fit(X_train_scaled, y_train)\n",
    "y_pred_svc = model_svc.predict(X_test_scaled)\n",
    "svc_accuracy = accuracy_score(y_test, y_pred_svc)\n",
    "print(\"SVC Accuracy:\", (svc_accuracy))\n",
    "print(\"SVC:\")\n",
    "print(classification_report(y_test, y_pred_svc))"
   ]
  },
  {
   "cell_type": "code",
   "execution_count": 168,
   "metadata": {},
   "outputs": [
    {
     "name": "stdout",
     "output_type": "stream",
     "text": [
      "Random Forest Accuracy: 0.9826086956521739\n",
      "Decision Tree Accuracy: 0.991304347826087\n",
      "KNN Accuracy: 0.9391304347826087\n",
      "Gradient Boosting Accuracy: 0.9565217391304348\n",
      "SVC Accuracy: 0.9478260869565217\n"
     ]
    }
   ],
   "source": [
    "# Semua Accuracy\n",
    "print(\"Random Forest Accuracy:\", (random_accuracy))\n",
    "print(\"Decision Tree Accuracy:\", decision_accuracy)\n",
    "print(\"KNN Accuracy:\", knn_accuracy)\n",
    "print(\"Gradient Boosting Accuracy:\", logistic_accuracy)\n",
    "print(\"SVC Accuracy:\", svc_accuracy)"
   ]
  },
  {
   "cell_type": "code",
   "execution_count": 181,
   "metadata": {},
   "outputs": [
    {
     "name": "stdout",
     "output_type": "stream",
     "text": [
      "Predict class (Encoded): 1\n",
      "Predict class (Decoded): Anemia\n"
     ]
    }
   ],
   "source": [
    "# Data baru\n",
    "new_data = {\n",
    "        'Gender': 'male',  \n",
    "        'Hemoglobin': 13,\n",
    "        'MCH': 48.3,\n",
    "        'MCHC':  30,\n",
    "        'MCV': 73 \n",
    "\n",
    "        # Gender\tHemoglobin\tMCH\tMCHC\tMCV\n",
    "}\n",
    "\n",
    "# Convert new data ke DataFrame\n",
    "new_data_df = pd.DataFrame([new_data])\n",
    "\n",
    "# Mapping untuk Gender \n",
    "gender_map = {'male': 1, 'female': 0} \n",
    "new_data_df['Gender'] = new_data_df['Gender'].map(gender_map)\n",
    "\n",
    "# SCalling dta numerik\n",
    "new_data_scaled = scaler.transform(new_data_df)\n",
    "\n",
    "# Prediksi\n",
    "predicsi = model_decision.predict(new_data_scaled)\n",
    "predict_hasil = predicsi[0]\n",
    "\n",
    "label_map = {\n",
    "        0: 'Tidak Anemia',\n",
    "        1: 'Anemia'  \n",
    "}\n",
    "hasil_prediksi = [label_map[predict_hasil]]\n",
    "\n",
    "print(f\"Predict class (Encoded): {predict_hasil}\")\n",
    "print(f\"Predict class (Decoded): {hasil_prediksi[0]}\")"
   ]
  },
  {
   "cell_type": "code",
   "execution_count": 178,
   "metadata": {},
   "outputs": [
    {
     "data": {
      "text/plain": [
       "['Decision_model.pkl']"
      ]
     },
     "execution_count": 178,
     "metadata": {},
     "output_type": "execute_result"
    }
   ],
   "source": [
    "# import joblib\n",
    "\n",
    "# joblib.dump(scaler, 'Scaler.pkl')\n",
    "# joblib.dump(model_decision, 'Decision_model.pkl')"
   ]
  }
 ],
 "metadata": {
  "kernelspec": {
   "display_name": "semangatProject",
   "language": "python",
   "name": "python3"
  },
  "language_info": {
   "codemirror_mode": {
    "name": "ipython",
    "version": 3
   },
   "file_extension": ".py",
   "mimetype": "text/x-python",
   "name": "python",
   "nbconvert_exporter": "python",
   "pygments_lexer": "ipython3",
   "version": "3.12.6"
  }
 },
 "nbformat": 4,
 "nbformat_minor": 2
}
